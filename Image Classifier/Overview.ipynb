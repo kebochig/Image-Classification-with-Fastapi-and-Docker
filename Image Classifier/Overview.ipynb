{
 "cells": [
  {
   "cell_type": "markdown",
   "id": "d8c70f66",
   "metadata": {},
   "source": [
    "### DEFECTIVE BOXES IMAGE CLASSIFICATION\n",
    "---"
   ]
  },
  {
   "cell_type": "markdown",
   "id": "6e0c8351",
   "metadata": {},
   "source": [
    "In this project, a model was built to classify defective and non defective boxes by applying transfer learning on MobileNwtV2, an off-the-shelf CNN model. The model is then exposed through an API for consumption. FastAPI was used to expose the model through a UI interface. Finally, Docker is used to contenarize and deploy the application"
   ]
  },
  {
   "cell_type": "markdown",
   "id": "edd9c0b4",
   "metadata": {},
   "source": [
    "##### 3"
   ]
  },
  {
   "cell_type": "markdown",
   "id": "502958d2",
   "metadata": {},
   "source": [
    ">**Precision & Recall**\n",
    "![Listings Screenshot](precision.png)"
   ]
  },
  {
   "cell_type": "markdown",
   "id": "364a8834",
   "metadata": {},
   "source": [
    ">**AUC**\n",
    "![Listings Screenshot](auc.png)"
   ]
  },
  {
   "cell_type": "markdown",
   "id": "fcf7e1b5",
   "metadata": {},
   "source": [
    ">**Confusion Matrix**\n",
    "![Listings Screenshot](conf.png)"
   ]
  },
  {
   "cell_type": "markdown",
   "id": "ae8b0909",
   "metadata": {},
   "source": [
    "##### 4\n",
    "From the Confusion Matrix, a total of 32 images were tested with the model, out of which, 8 were Defective and 24 Non Defective (due to the imbalanced dataset). 5 of 8 Defective boxes were correctly classified while 23 of 24 Non Defective boxes were correclty classified"
   ]
  },
  {
   "cell_type": "markdown",
   "id": "e4e7e329",
   "metadata": {},
   "source": [
    "##### 5"
   ]
  },
  {
   "cell_type": "markdown",
   "id": "50dc534b",
   "metadata": {},
   "source": [
    "The False positives and False negetives are this way because of the inbalanced dataset; the Non Defective class has about double the amount of images in the Defective class, this has a tendency of skewing the model a bit. This issue can be resolved by either undersampling the higher class to equal the lower class, or increasing the lesser class (by adding augmented images from the existing data) to equal the higher class."
   ]
  },
  {
   "cell_type": "markdown",
   "id": "46f0f4b5",
   "metadata": {},
   "source": [
    "###### 6"
   ]
  },
  {
   "cell_type": "markdown",
   "id": "0a2c1a11",
   "metadata": {},
   "source": [
    ">**Loss plot**\n",
    "![Listings Screenshot](los.png)"
   ]
  },
  {
   "cell_type": "markdown",
   "id": "d7edc066",
   "metadata": {},
   "source": [
    "From the loss plot, the model is neither overfitted nor underfitted, this is because loth training and validation loss reduce at the same time. An overfitted loss plot will show the training loss reducing while the validation loss increases, because the model has learnt the training set so well and can't generalise to the validation set. An Underfitted model will have both the traning and validation loss increasing becsuse it can not learn from the training set and hence can't perform well on the validation set."
   ]
  },
  {
   "cell_type": "markdown",
   "id": "a089d29b",
   "metadata": {},
   "source": [
    "##### 7"
   ]
  },
  {
   "cell_type": "markdown",
   "id": "673ae9bc",
   "metadata": {},
   "source": [
    "The model architecture used is the Convolutional Neural Network because of its ability to capture patterns in images. This model was built by applying Transfer learning on an off-the-shelf model named MobileNetV2. This method was used because training a new model from scratch could require more dataset, more compute power and more time. Hence, utilising off-the-shelf models that have learnt underlying pattern recognition through intense training can give us a good result without habving to go through the hassles of a new model from scratch. \n",
    "\n",
    "Finally, why re-invent the wheel when there are other areas to be newly invented?"
   ]
  },
  {
   "cell_type": "markdown",
   "id": "5a4b0e24",
   "metadata": {},
   "source": [
    "##### 8"
   ]
  },
  {
   "cell_type": "markdown",
   "id": "98011f16",
   "metadata": {},
   "source": [
    "Adam Optimiser was utilised with a Learning rate of 0.0001"
   ]
  },
  {
   "cell_type": "markdown",
   "id": "a9d71630",
   "metadata": {},
   "source": [
    "##### 9\n",
    "\n",
    "The model was trained for a total of 25 epochs. This was to avoid overfitting the model"
   ]
  }
 ],
 "metadata": {
  "kernelspec": {
   "display_name": "Python 3",
   "language": "python",
   "name": "python3"
  },
  "language_info": {
   "codemirror_mode": {
    "name": "ipython",
    "version": 3
   },
   "file_extension": ".py",
   "mimetype": "text/x-python",
   "name": "python",
   "nbconvert_exporter": "python",
   "pygments_lexer": "ipython3",
   "version": "3.8.8"
  }
 },
 "nbformat": 4,
 "nbformat_minor": 5
}
